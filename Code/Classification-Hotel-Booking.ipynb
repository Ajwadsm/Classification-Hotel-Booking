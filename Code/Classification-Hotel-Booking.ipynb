{
 "cells": [
  {
   "cell_type": "markdown",
   "id": "7f048dae",
   "metadata": {},
   "source": [
    "# Import packages\n",
    "---\n",
    "---"
   ]
  },
  {
   "cell_type": "code",
   "execution_count": null,
   "id": "77f344ef",
   "metadata": {},
   "outputs": [],
   "source": [
    "import pandas as pd\n",
    "import numpy as np\n",
    "import sklearn\n",
    "import seaborn as sns\n",
    "import matplotlib.pyplot as plt\n",
    "%matplotlib inline\n",
    "from sklearn.pipeline import Pipeline\n",
    "%config InlineBackend.figure_format = 'svg'\n",
    "from sklearn.model_selection import train_test_split\n",
    "from sklearn.preprocessing import StandardScaler, PolynomialFeatures\n",
    "from sklearn.neighbors import KNeighborsClassifier\n",
    "from sklearn.linear_model import LogisticRegression\n",
    "from sklearn.metrics import precision_score, recall_score, precision_recall_curve,f1_score, fbeta_score\n",
    "import warnings\n",
    "warnings.filterwarnings('ignore')\n",
    "import random\n",
    "\n",
    "#from yellowbrick.regressor import prediction_error"
   ]
  },
  {
   "cell_type": "markdown",
   "id": "9d4c09a9",
   "metadata": {},
   "source": [
    "# Get the Data\n",
    "---"
   ]
  },
  {
   "cell_type": "code",
   "execution_count": null,
   "id": "2f3c0422",
   "metadata": {},
   "outputs": [],
   "source": [
    "df=pd.read_csv('/Users/reema/Downloads/hotel_booking.csv')\n",
    "#df = pd.read_csv('hotel_booking.csv')\n",
    "df"
   ]
  },
  {
   "cell_type": "markdown",
   "id": "e62126e9",
   "metadata": {},
   "source": [
    "# Take a Look at the Data Structure\n",
    "---"
   ]
  },
  {
   "cell_type": "code",
   "execution_count": null,
   "id": "5111f83c",
   "metadata": {},
   "outputs": [],
   "source": [
    "df.columns"
   ]
  },
  {
   "cell_type": "code",
   "execution_count": null,
   "id": "8dd13aa8",
   "metadata": {},
   "outputs": [],
   "source": [
    "df.shape"
   ]
  },
  {
   "cell_type": "code",
   "execution_count": null,
   "id": "e4998db2",
   "metadata": {},
   "outputs": [],
   "source": [
    "df.info()"
   ]
  },
  {
   "cell_type": "code",
   "execution_count": null,
   "id": "b22368df",
   "metadata": {},
   "outputs": [],
   "source": [
    "#Numeric\n",
    "numerical = df.loc[:, (df.dtypes == 'int64') | (df.dtypes == 'float64')].columns.tolist()\n",
    "numerical"
   ]
  },
  {
   "cell_type": "code",
   "execution_count": null,
   "id": "eee9381f",
   "metadata": {},
   "outputs": [],
   "source": [
    "#Categorical\n",
    "categorical = df.loc[:, (df.dtypes != 'int64') & (df.dtypes != 'float64')].columns.tolist()\n",
    "categorical"
   ]
  },
  {
   "cell_type": "code",
   "execution_count": null,
   "id": "a41b6cbd",
   "metadata": {},
   "outputs": [],
   "source": [
    "df[numerical].describe()"
   ]
  },
  {
   "cell_type": "code",
   "execution_count": null,
   "id": "ca466c45",
   "metadata": {},
   "outputs": [],
   "source": [
    "df[categorical].describe()"
   ]
  },
  {
   "cell_type": "code",
   "execution_count": null,
   "id": "7b7fd8cd",
   "metadata": {},
   "outputs": [],
   "source": [
    "# Check classes for prediction\n",
    "df['is_canceled'].value_counts()#(normalize=True)"
   ]
  },
  {
   "cell_type": "code",
   "execution_count": null,
   "id": "9f4375f0",
   "metadata": {},
   "outputs": [],
   "source": [
    "# Check value counts for catogrical columns\n",
    "for col in categorical:\n",
    "    print(f'''Value count column {col}:''')\n",
    "    print('-' * 50)\n",
    "    print(df[col].value_counts())\n",
    "    print()"
   ]
  },
  {
   "cell_type": "code",
   "execution_count": null,
   "id": "c18a7bce",
   "metadata": {},
   "outputs": [],
   "source": [
    "# Check Duplicates\n",
    "df.duplicated().sum()"
   ]
  },
  {
   "cell_type": "code",
   "execution_count": null,
   "id": "24187df1",
   "metadata": {},
   "outputs": [],
   "source": [
    "#df.hist(bins=60, figsize=(20,15));"
   ]
  },
  {
   "cell_type": "markdown",
   "id": "8e5c76f5",
   "metadata": {},
   "source": [
    "# Data Pre-Processing\n",
    "---"
   ]
  },
  {
   "cell_type": "code",
   "execution_count": null,
   "id": "6d66805b",
   "metadata": {},
   "outputs": [],
   "source": [
    "df.isnull().sum()"
   ]
  },
  {
   "cell_type": "code",
   "execution_count": null,
   "id": "d1b50625",
   "metadata": {},
   "outputs": [],
   "source": [
    "df_clean = df.copy()"
   ]
  },
  {
   "cell_type": "code",
   "execution_count": null,
   "id": "8e167601",
   "metadata": {},
   "outputs": [],
   "source": [
    "#Delete Irrelevant Features\n",
    "df_clean.drop(['name', 'email', 'phone-number', 'credit_card'], axis = 1, inplace=True)"
   ]
  },
  {
   "cell_type": "code",
   "execution_count": null,
   "id": "5cf2a37d",
   "metadata": {},
   "outputs": [],
   "source": [
    "#Remove rows that have no children data\n",
    "df_clean.dropna(subset=['children'], inplace=True)"
   ]
  },
  {
   "cell_type": "code",
   "execution_count": null,
   "id": "3de16c3e",
   "metadata": {},
   "outputs": [],
   "source": [
    "#Change value company to 0 and 1\n",
    "df_clean['company'] = df_clean['company'].apply(lambda x: 0 if pd.isnull(x) else 1)\n",
    "df_clean['company'].value_counts()"
   ]
  },
  {
   "cell_type": "code",
   "execution_count": null,
   "id": "3726fc60",
   "metadata": {},
   "outputs": [],
   "source": [
    "#Change value agent to 0 and 1\n",
    "df_clean['agent'] = df_clean['agent'].apply(lambda x: 0 if pd.isnull(x) else 1)\n",
    "df_clean['agent'].value_counts()"
   ]
  },
  {
   "cell_type": "code",
   "execution_count": null,
   "id": "d92df3cb",
   "metadata": {},
   "outputs": [],
   "source": [
    "#Fill NaN value in country with the value of mode\n",
    "df_clean['country'].fillna(df_clean['country'].mode()[0], inplace = True)\n",
    "df_clean['country'].value_counts()"
   ]
  },
  {
   "cell_type": "code",
   "execution_count": null,
   "id": "8dfc6e93",
   "metadata": {},
   "outputs": [],
   "source": [
    "df_clean.isna().sum()"
   ]
  },
  {
   "cell_type": "markdown",
   "id": "cca9d247",
   "metadata": {},
   "source": [
    "# Handel incorrect value\n",
    "---"
   ]
  },
  {
   "cell_type": "markdown",
   "id": "0b507909",
   "metadata": {},
   "source": [
    "ADR"
   ]
  },
  {
   "cell_type": "code",
   "execution_count": null,
   "id": "1e0b6602",
   "metadata": {},
   "outputs": [],
   "source": [
    "df_clean['adr'].describe()"
   ]
  },
  {
   "cell_type": "code",
   "execution_count": null,
   "id": "4ddec484",
   "metadata": {},
   "outputs": [],
   "source": [
    "df_clean[df_clean.adr < 0]"
   ]
  },
  {
   "cell_type": "code",
   "execution_count": null,
   "id": "36c514b6",
   "metadata": {},
   "outputs": [],
   "source": [
    "df_clean.drop(df_clean[df_clean['adr'] < 0].index, inplace = True)"
   ]
  },
  {
   "cell_type": "code",
   "execution_count": null,
   "id": "681dd96d",
   "metadata": {},
   "outputs": [],
   "source": [
    "df_clean['adr'].describe()"
   ]
  },
  {
   "cell_type": "markdown",
   "id": "e7be3378",
   "metadata": {},
   "source": [
    "Adults\n"
   ]
  },
  {
   "cell_type": "code",
   "execution_count": null,
   "id": "d28f40a0",
   "metadata": {},
   "outputs": [],
   "source": [
    "df_clean['adults'].describe()"
   ]
  },
  {
   "cell_type": "code",
   "execution_count": null,
   "id": "1c5d5b69",
   "metadata": {},
   "outputs": [],
   "source": [
    "df_clean.drop(df_clean[df_clean['adults']<1].index, inplace= True)"
   ]
  },
  {
   "cell_type": "code",
   "execution_count": null,
   "id": "1512017e",
   "metadata": {},
   "outputs": [],
   "source": [
    "df_clean['adults'].describe()"
   ]
  },
  {
   "cell_type": "markdown",
   "id": "21b58ed1",
   "metadata": {},
   "source": [
    "# Change Type"
   ]
  },
  {
   "cell_type": "code",
   "execution_count": null,
   "id": "1ff049a4",
   "metadata": {},
   "outputs": [],
   "source": [
    "# Changing children to integer type: \n",
    "df_clean['children'] = df_clean['children'].astype(int)\n",
    "\n",
    "# Changing reservation status date to datetime type: \n",
    "df_clean['reservation_status_date'] = pd.to_datetime(df['reservation_status_date'])\n",
    "\n",
    "# Changing agent to integer type: \n",
    "df_clean['agent'] = df_clean['agent'].astype(int)\n",
    "\n",
    "# Changing company to integer type: \n",
    "df_clean['company'] = df_clean['company'].astype(int)"
   ]
  },
  {
   "cell_type": "code",
   "execution_count": null,
   "id": "823e5887",
   "metadata": {},
   "outputs": [],
   "source": [
    "df_clean.info()"
   ]
  },
  {
   "cell_type": "markdown",
   "id": "aaa7d70a",
   "metadata": {},
   "source": [
    "# Feature Engineering\n",
    "---"
   ]
  },
  {
   "cell_type": "markdown",
   "id": "e6621b8a",
   "metadata": {},
   "source": [
    "Total Stays\n"
   ]
  },
  {
   "cell_type": "code",
   "execution_count": null,
   "id": "48aedbc3",
   "metadata": {},
   "outputs": [],
   "source": [
    "df_clean['total_stays'] = df_clean['stays_in_weekend_nights'] + df_clean['stays_in_week_nights']"
   ]
  },
  {
   "cell_type": "markdown",
   "id": "c969166c",
   "metadata": {},
   "source": [
    "Total Guests"
   ]
  },
  {
   "cell_type": "code",
   "execution_count": null,
   "id": "64b95980",
   "metadata": {},
   "outputs": [],
   "source": [
    "df_clean['total_guests'] = df_clean['adults'] + df_clean['children'] + df_clean['babies']"
   ]
  },
  {
   "cell_type": "markdown",
   "id": "cf6d419f",
   "metadata": {},
   "source": [
    "Kids"
   ]
  },
  {
   "cell_type": "code",
   "execution_count": null,
   "id": "1f5fd9e7",
   "metadata": {},
   "outputs": [],
   "source": [
    "df_clean['kids'] = df_clean['children'] + df_clean['babies']"
   ]
  },
  {
   "cell_type": "markdown",
   "id": "6b627f7d",
   "metadata": {},
   "source": [
    "Guest Location"
   ]
  },
  {
   "cell_type": "code",
   "execution_count": null,
   "id": "d5db6276",
   "metadata": {},
   "outputs": [],
   "source": [
    "df_clean['guest_location'] = df_clean['country'].apply(lambda x: 'Local' if x == 'PRT' else 'International')\n",
    "df_clean['guest_location'].value_counts()"
   ]
  },
  {
   "cell_type": "code",
   "execution_count": null,
   "id": "a67cf4ad",
   "metadata": {},
   "outputs": [],
   "source": [
    "# Delete \n",
    "df_clean.drop(['stays_in_weekend_nights', 'stays_in_week_nights', 'children', 'babies'], axis = 1, inplace=True)"
   ]
  },
  {
   "cell_type": "code",
   "execution_count": null,
   "id": "d59e0565",
   "metadata": {},
   "outputs": [],
   "source": [
    "# check Duplicates\n",
    "df_clean.duplicated().sum()"
   ]
  },
  {
   "cell_type": "code",
   "execution_count": null,
   "id": "b7234c6e",
   "metadata": {},
   "outputs": [],
   "source": [
    "# drop Duplicates\n",
    "df_clean.drop_duplicates(inplace=True)"
   ]
  },
  {
   "cell_type": "code",
   "execution_count": null,
   "id": "4f25d89f",
   "metadata": {},
   "outputs": [],
   "source": [
    "df_clean.duplicated().sum()"
   ]
  },
  {
   "cell_type": "code",
   "execution_count": null,
   "id": "41bc1385",
   "metadata": {},
   "outputs": [],
   "source": [
    "df_clean['is_canceled'].value_counts()"
   ]
  },
  {
   "cell_type": "code",
   "execution_count": null,
   "id": "3086e5be",
   "metadata": {},
   "outputs": [],
   "source": [
    "df_clean.info()"
   ]
  },
  {
   "cell_type": "markdown",
   "id": "7aadc4c0",
   "metadata": {},
   "source": [
    "# Split Data\n",
    "---"
   ]
  },
  {
   "cell_type": "code",
   "execution_count": null,
   "id": "7b275ef8",
   "metadata": {},
   "outputs": [],
   "source": [
    "total_previous_cancellations = df_clean['previous_cancellations'].unique() \n",
    "total_previous_cancellations"
   ]
  },
  {
   "cell_type": "code",
   "execution_count": null,
   "id": "4654dd7f",
   "metadata": {},
   "outputs": [],
   "source": [
    "#train/test split on randomly selected groups of previous_cancellations\n",
    "np.random.seed(80)\n",
    "total_previous_cancellations = df_clean['previous_cancellations'].unique() \n",
    "test_previous_cancellations = np.random.choice(total_previous_cancellations, size=int(total_previous_cancellations.shape[0] * .20))"
   ]
  },
  {
   "cell_type": "code",
   "execution_count": null,
   "id": "f2729bff",
   "metadata": {},
   "outputs": [],
   "source": [
    "df_train, df_test = df_clean[~df_clean['previous_cancellations'].isin(test_previous_cancellations)], df_clean[df_clean['previous_cancellations'].isin(test_previous_cancellations)]"
   ]
  },
  {
   "cell_type": "code",
   "execution_count": null,
   "id": "76b3b054",
   "metadata": {},
   "outputs": [],
   "source": [
    "#train/val split on randomly selected groups of previous_cancellations\n",
    "total_train_previous_cancellations = df_train['previous_cancellations'].unique() \n",
    "val_previous_cancellations = np.random.choice(total_train_previous_cancellations, size=int(total_train_previous_cancellations.shape[0] * .25))"
   ]
  },
  {
   "cell_type": "code",
   "execution_count": null,
   "id": "c55c1ebc",
   "metadata": {},
   "outputs": [],
   "source": [
    "df_train, df_val = df_train[~df_train['previous_cancellations'].isin(val_previous_cancellations)], df_train[df_train['previous_cancellations'].isin(val_previous_cancellations)]"
   ]
  },
  {
   "cell_type": "markdown",
   "id": "0afd5904",
   "metadata": {},
   "source": [
    "# ------------------------------------------"
   ]
  },
  {
   "cell_type": "code",
   "execution_count": null,
   "id": "370d00d2",
   "metadata": {},
   "outputs": [],
   "source": [
    "df_train['previous_cancellations'].unique()"
   ]
  },
  {
   "cell_type": "code",
   "execution_count": null,
   "id": "c31b5877",
   "metadata": {},
   "outputs": [],
   "source": [
    "df_test['previous_cancellations'].unique()"
   ]
  },
  {
   "cell_type": "code",
   "execution_count": null,
   "id": "f9398bcd",
   "metadata": {},
   "outputs": [],
   "source": [
    "df_val['previous_cancellations'].unique()"
   ]
  },
  {
   "cell_type": "markdown",
   "id": "4152a2ab",
   "metadata": {},
   "source": [
    "# ------------------------------------------"
   ]
  },
  {
   "cell_type": "code",
   "execution_count": null,
   "id": "0f9229a9",
   "metadata": {},
   "outputs": [],
   "source": [
    "df_train['is_canceled'].value_counts()"
   ]
  },
  {
   "cell_type": "code",
   "execution_count": null,
   "id": "3bed5de4",
   "metadata": {},
   "outputs": [],
   "source": [
    "df_val['is_canceled'].value_counts()"
   ]
  },
  {
   "cell_type": "code",
   "execution_count": null,
   "id": "68e907ae",
   "metadata": {},
   "outputs": [],
   "source": [
    "df_test['is_canceled'].value_counts()"
   ]
  },
  {
   "cell_type": "markdown",
   "id": "48c3686c",
   "metadata": {},
   "source": [
    "# Get Dummies "
   ]
  },
  {
   "cell_type": "code",
   "execution_count": null,
   "id": "92f267f9",
   "metadata": {},
   "outputs": [],
   "source": [
    "df_clean.dtypes"
   ]
  },
  {
   "cell_type": "code",
   "execution_count": null,
   "id": "97cc185d",
   "metadata": {},
   "outputs": [],
   "source": [
    "df_clean.nunique()"
   ]
  },
  {
   "cell_type": "code",
   "execution_count": null,
   "id": "ec45cba7",
   "metadata": {},
   "outputs": [],
   "source": [
    "df_clean.reserved_room_type.value_counts()"
   ]
  },
  {
   "cell_type": "code",
   "execution_count": null,
   "id": "69bb938a",
   "metadata": {},
   "outputs": [],
   "source": [
    "df_clean.assigned_room_type.value_counts()"
   ]
  },
  {
   "cell_type": "code",
   "execution_count": null,
   "id": "5110df78",
   "metadata": {},
   "outputs": [],
   "source": [
    "df1=df1 = df_train.select_dtypes(exclude=['object']).copy()"
   ]
  },
  {
   "cell_type": "code",
   "execution_count": null,
   "id": "26d893e2",
   "metadata": {},
   "outputs": [],
   "source": [
    "df_obj_train=df_train.loc[:,['hotel','arrival_date_month','market_segment','distribution_channel','assigned_room_type','deposit_type','customer_type','reservation_status','guest_location']]\n",
    "           "
   ]
  },
  {
   "cell_type": "code",
   "execution_count": null,
   "id": "783065db",
   "metadata": {},
   "outputs": [],
   "source": [
    "df_obj_val=df_val.loc[:,['hotel','arrival_date_month','market_segment','distribution_channel','assigned_room_type','deposit_type','customer_type','reservation_status','guest_location']]  "
   ]
  },
  {
   "cell_type": "code",
   "execution_count": null,
   "id": "90596412",
   "metadata": {},
   "outputs": [],
   "source": [
    "df_obj_test=df_test.loc[:,['hotel','arrival_date_month','market_segment','distribution_channel','assigned_room_type','deposit_type','customer_type','reservation_status','guest_location']]  "
   ]
  },
  {
   "cell_type": "code",
   "execution_count": null,
   "id": "bae582e9",
   "metadata": {},
   "outputs": [],
   "source": [
    "df_dum_tr = pd.get_dummies(df_obj_train, drop_first=True)\n",
    "\n",
    "df_train1 = pd.concat([df1, df_dum_tr], axis=1)\n",
    "df_train1.head(2)"
   ]
  },
  {
   "cell_type": "code",
   "execution_count": null,
   "id": "a846149e",
   "metadata": {},
   "outputs": [],
   "source": [
    "df_dum_val = pd.get_dummies(df_obj_val, drop_first=True)\n",
    "\n",
    "df_val1 = pd.concat([df1, df_dum_val], axis=1)\n",
    "df_val1.head(2)"
   ]
  },
  {
   "cell_type": "code",
   "execution_count": null,
   "id": "be4e6d13",
   "metadata": {},
   "outputs": [],
   "source": [
    "df_dum_test = pd.get_dummies(df_obj_test, drop_first=True)\n",
    "\n",
    "df_test1 = pd.concat([df1, df_dum_test], axis=1)\n",
    "df_test1.head(2)"
   ]
  },
  {
   "cell_type": "code",
   "execution_count": null,
   "id": "b24fe7e1",
   "metadata": {
    "scrolled": true
   },
   "outputs": [],
   "source": [
    "#sns.heatmap(df_train1.corr(), cmap=\"seismic\", annot=True, vmin=-1, vmax=1);\n"
   ]
  },
  {
   "cell_type": "code",
   "execution_count": null,
   "id": "db85cf1b",
   "metadata": {},
   "outputs": [],
   "source": [
    "df_train1.corr()"
   ]
  },
  {
   "cell_type": "markdown",
   "id": "5a375d8e",
   "metadata": {},
   "source": [
    "# EDA"
   ]
  },
  {
   "cell_type": "code",
   "execution_count": null,
   "id": "a336fbc8",
   "metadata": {},
   "outputs": [],
   "source": [
    "# plt.figure(figsize=(15, 25))\n",
    "# for i in range(0, len(numerical)):\n",
    "#     plt.subplot(10, int(len(numerical)/9), i+1)\n",
    "#     sns.distplot(df_clean[numerical[i]], color='gray')\n",
    "#     plt.tight_layout()"
   ]
  },
  {
   "cell_type": "code",
   "execution_count": null,
   "id": "13b48274",
   "metadata": {},
   "outputs": [],
   "source": [
    "df_train1.shape"
   ]
  },
  {
   "cell_type": "code",
   "execution_count": null,
   "id": "30e4ed9d",
   "metadata": {},
   "outputs": [],
   "source": [
    "df_val1.shape"
   ]
  },
  {
   "cell_type": "code",
   "execution_count": null,
   "id": "fc02cb56",
   "metadata": {},
   "outputs": [],
   "source": [
    "df_test1.shape"
   ]
  },
  {
   "cell_type": "code",
   "execution_count": null,
   "id": "92fc9022",
   "metadata": {},
   "outputs": [],
   "source": [
    "train_sample= df_train1[['is_canceled','lead_time','previous_cancellations','previous_bookings_not_canceled',\n",
    "                           'assigned_room_type_K','assigned_room_type_L','deposit_type_Non Refund','deposit_type_Refundable',\n",
    "                           'customer_type_Group','customer_type_Transient','customer_type_Transient-Party',\n",
    "                           'reservation_status_Check-Out','reservation_status_No-Show','guest_location_Local',\n",
    "                           'hotel_Resort Hotel','market_segment_Complementary','market_segment_Corporate',\n",
    "                           'market_segment_Direct','market_segment_Groups','market_segment_Offline TA/TO',\n",
    "                           'market_segment_Online TA','distribution_channel_Direct','distribution_channel_GDS',\n",
    "                           'distribution_channel_TA/TO','distribution_channel_Undefined','assigned_room_type_B',\n",
    "                           'assigned_room_type_C','assigned_room_type_D','assigned_room_type_E','assigned_room_type_F',\n",
    "                           'assigned_room_type_G','assigned_room_type_H','assigned_room_type_I','assigned_room_type_K',\n",
    "                           'assigned_room_type_L','deposit_type_Non Refund','deposit_type_Refundable','customer_type_Group',\n",
    "                           'customer_type_Transient','customer_type_Transient-Party','reservation_status_Check-Out',\n",
    "                           'reservation_status_No-Show'\n",
    "                           ]]\n",
    "\n",
    "\n",
    "\n",
    "\n",
    "\n",
    "\n",
    "\n",
    "val_sample = df_val1[['hotel_Resort Hotel','is_canceled','lead_time','previous_cancellations','distribution_channel_Direct',\n",
    "                      'distribution_channel_TA/TO','market_segment_Complementary','market_segment_Corporate',\n",
    "                      'market_segment_Direct',\n",
    "                      'market_segment_Groups','market_segment_Offline TA/TO','market_segment_Online TA',\n",
    "                      'country_PRT','country_ITA','country_GBR','country_FRA','deposit_type_Non Refund',\n",
    "                      'previous_bookings_not_canceled','customer_type_Group','customer_type_Transient',\n",
    "                      'customer_type_Transient-Party','assigned_room_type_B','assigned_room_type_C',\n",
    "                      'assigned_room_type_D','assigned_room_type_E','assigned_room_type_F','assigned_room_type_G',\n",
    "                      'assigned_room_type_H'\n",
    "                     ]]\n",
    "    \n",
    "                          \n",
    "\n",
    "test_sample = df_test1[['is_canceled','lead_time','previous_cancellations','previous_bookings_not_canceled',\n",
    "                        'hotel_Resort Hotel','country_PRT','market_segment_Direct',\n",
    "                      'market_segment_Groups','market_segment_Offline TA/TO','market_segment_Online TA',\n",
    "                        'market_segment_Corporate','distribution_channel_Direct','distribution_channel_TA/TO',\n",
    "                        'assigned_room_type_B','assigned_room_type_D','assigned_room_type_E','assigned_room_type_F',\n",
    "                        'assigned_room_type_G','deposit_type_Non Refund','reservation_status_Check-Out',\n",
    "                        'reservation_status_No-Show','customer_type_Transient-Party']]\n",
    "    \n",
    "    \n",
    "   "
   ]
  },
  {
   "cell_type": "code",
   "execution_count": null,
   "id": "d8323fed",
   "metadata": {},
   "outputs": [],
   "source": [
    "# Classes\n",
    "plt.figure(figsize=(5, 6))\n",
    "cancel_ax = sns.countplot(df_clean['is_canceled'])\n",
    "\n",
    "for p in cancel_ax.patches:\n",
    "    cancel_ax.annotate(format(p.get_height(), '.0f'), \n",
    "                   (p.get_x() + p.get_width() / 2., p.get_height()), \n",
    "                   ha = 'center', va = 'center', \n",
    "                   xytext = (0, 9), \n",
    "                   textcoords = 'offset points')"
   ]
  },
  {
   "cell_type": "code",
   "execution_count": null,
   "id": "240804a5",
   "metadata": {},
   "outputs": [],
   "source": [
    "# Cancellation Rate\n",
    "labels = ['Confirmed Booking',  'Cancelled Booking']\n",
    "myexplode = [0.2, 0]\n",
    "cancel_fig, cancel_ax = plt.subplots(figsize=[10,6])\n",
    "cancel_ax.pie(df_clean['is_canceled'].value_counts(), autopct='%1.1f%%',\n",
    "        shadow=True, startangle=90, explode = myexplode, textprops={'color':\"black\", 'fontsize':20}, labels=labels)\n",
    "cancel_ax.axis('equal'); "
   ]
  },
  {
   "cell_type": "markdown",
   "id": "2e197eeb",
   "metadata": {},
   "source": [
    "---\n",
    "## What is the month in which there were the most cancellations, and what is the month in which there were the least cancellations?"
   ]
  },
  {
   "cell_type": "code",
   "execution_count": null,
   "id": "92203b74",
   "metadata": {},
   "outputs": [],
   "source": [
    "plt.figure(figsize=(12, 10))\n",
    "sns.barplot(df_clean['arrival_date_month'], df_clean['is_canceled'], color='steelblue')\n",
    "\n",
    "plt.xlabel('arrival_date_month', fontsize=12)\n",
    "plt.ylabel('is_canceled', fontsize=12)\n",
    "plt.title('Cancellation Rate By Months', fontsize=20, pad=30)\n",
    "plt.show()"
   ]
  },
  {
   "cell_type": "markdown",
   "id": "87f0db62",
   "metadata": {},
   "source": [
    "# Select what year was the most reservation in?"
   ]
  },
  {
   "cell_type": "code",
   "execution_count": null,
   "id": "f9b18a80",
   "metadata": {},
   "outputs": [],
   "source": [
    "counts_year = df_train.arrival_date_year.value_counts().sort_values(ascending=False).reset_index()\n",
    "counts_year.columns = ['year', 'count']\n",
    "counts_year"
   ]
  },
  {
   "cell_type": "code",
   "execution_count": null,
   "id": "6236b4b4",
   "metadata": {},
   "outputs": [],
   "source": [
    "sns.barplot(x = 'year', y = 'count', data = counts_year , color = '#4682B4')\n",
    "plt.xlabel('arrival date year')\n",
    "plt.ylabel('counts')\n",
    "plt.title('The Most reservation  year',fontsize =10,weight='bold',color='black')"
   ]
  },
  {
   "cell_type": "markdown",
   "id": "918278c6",
   "metadata": {},
   "source": [
    "# What is the cancellation rate for each hotel?"
   ]
  },
  {
   "cell_type": "code",
   "execution_count": null,
   "id": "cf9ce8be",
   "metadata": {},
   "outputs": [],
   "source": [
    "Most_hotel_cancellation = df_train.groupby('hotel').is_canceled.sum()\n",
    "Most_hotel_cancellation"
   ]
  },
  {
   "cell_type": "code",
   "execution_count": null,
   "id": "1a105f79",
   "metadata": {},
   "outputs": [],
   "source": [
    "fig = plt.figure(figsize =(7,7))\n",
    "c = ['#4682B4','#B0C4DE']\n",
    "plt.title('Cancellation rate per hotel', fontsize = 12, weight = 'bold')\n",
    "plt.pie(Most_hotel_cancellation , labels=Most_hotel_cancellation.index,autopct=\"%0.1f%%\", pctdistance=0.6 ,colors=c);"
   ]
  },
  {
   "cell_type": "markdown",
   "id": "16798651",
   "metadata": {},
   "source": [
    "# Is the number of changes of the reservation affected by (market_segment)?"
   ]
  },
  {
   "cell_type": "code",
   "execution_count": null,
   "id": "b4504d04",
   "metadata": {},
   "outputs": [],
   "source": [
    "plt.figure(figsize=(8,4))\n",
    "sns.barplot(y=df_train.booking_changes,x=df_train.market_segment\n",
    "            ,ci=True,color='steelblue')\n",
    "plt.ylabel('booking_changes')\n",
    "plt.xlabel('market_segment');\n"
   ]
  },
  {
   "cell_type": "markdown",
   "id": "e84a44c7",
   "metadata": {},
   "source": [
    "# Is booking changes affected by customer type or by days in waiting list?"
   ]
  },
  {
   "cell_type": "code",
   "execution_count": null,
   "id": "4bd3819c",
   "metadata": {},
   "outputs": [],
   "source": [
    "plt.bar(df_train.booking_changes,df_train.days_in_waiting_list)"
   ]
  },
  {
   "cell_type": "code",
   "execution_count": null,
   "id": "76dd6751",
   "metadata": {},
   "outputs": [],
   "source": [
    "plt.bar(df_train.booking_changes,df_train.customer_type);"
   ]
  },
  {
   "cell_type": "code",
   "execution_count": null,
   "id": "486ef5e6",
   "metadata": {},
   "outputs": [],
   "source": []
  },
  {
   "cell_type": "code",
   "execution_count": null,
   "id": "301aeab7",
   "metadata": {},
   "outputs": [],
   "source": []
  }
 ],
 "metadata": {
  "kernelspec": {
   "display_name": "Python 3",
   "language": "python",
   "name": "python3"
  },
  "language_info": {
   "codemirror_mode": {
    "name": "ipython",
    "version": 3
   },
   "file_extension": ".py",
   "mimetype": "text/x-python",
   "name": "python",
   "nbconvert_exporter": "python",
   "pygments_lexer": "ipython3",
   "version": "3.8.8"
  }
 },
 "nbformat": 4,
 "nbformat_minor": 5
}
