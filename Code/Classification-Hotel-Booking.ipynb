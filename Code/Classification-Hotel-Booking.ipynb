{
 "cells": [
  {
   "cell_type": "markdown",
   "id": "7f048dae",
   "metadata": {},
   "source": [
    "# Import packages\n",
    "---\n",
    "---"
   ]
  },
  {
   "cell_type": "code",
   "execution_count": null,
   "id": "77f344ef",
   "metadata": {},
   "outputs": [],
   "source": [
    "import pandas as pd\n",
    "import numpy as np\n",
    "import sklearn\n",
    "import seaborn as sns\n",
    "import matplotlib.pyplot as plt\n",
    "%matplotlib inline\n",
    "from sklearn.pipeline import Pipeline\n",
    "%config InlineBackend.figure_format = 'svg'\n",
    "from sklearn.model_selection import train_test_split\n",
    "from sklearn.preprocessing import StandardScaler, PolynomialFeatures\n",
    "from sklearn.neighbors import KNeighborsClassifier\n",
    "from sklearn.metrics import f1_score\n",
    "from sklearn.linear_model import LogisticRegression\n",
    "from sklearn.metrics import precision_score, recall_score, precision_recall_curve,f1_score, fbeta_score\n",
    "import warnings\n",
    "warnings.filterwarnings('ignore')\n",
    "import random\n",
    "\n",
    "#from yellowbrick.regressor import prediction_error"
   ]
  },
  {
   "cell_type": "markdown",
   "id": "9d4c09a9",
   "metadata": {},
   "source": [
    "# Get the Data\n",
    "---"
   ]
  },
  {
   "cell_type": "code",
   "execution_count": null,
   "id": "2f3c0422",
   "metadata": {},
   "outputs": [],
   "source": [
    "#df=pd.read_csv('/Users/reema/Downloads/hotel_booking.csv')\n",
    "df = pd.read_csv('hotel_booking.csv')\n",
    "df"
   ]
  },
  {
   "cell_type": "markdown",
   "id": "e62126e9",
   "metadata": {},
   "source": [
    "# Take a Look at the Data Structure\n",
    "---"
   ]
  },
  {
   "cell_type": "code",
   "execution_count": null,
   "id": "5111f83c",
   "metadata": {},
   "outputs": [],
   "source": [
    "df.columns"
   ]
  },
  {
   "cell_type": "code",
   "execution_count": null,
   "id": "8dd13aa8",
   "metadata": {},
   "outputs": [],
   "source": [
    "df.shape"
   ]
  },
  {
   "cell_type": "code",
   "execution_count": null,
   "id": "e4998db2",
   "metadata": {},
   "outputs": [],
   "source": [
    "df.info()"
   ]
  },
  {
   "cell_type": "code",
   "execution_count": null,
   "id": "b22368df",
   "metadata": {},
   "outputs": [],
   "source": [
    "#Numeric\n",
    "numerical = df.loc[:, (df.dtypes == 'int64') | (df.dtypes == 'float64')].columns.tolist()\n",
    "numerical"
   ]
  },
  {
   "cell_type": "code",
   "execution_count": null,
   "id": "eee9381f",
   "metadata": {},
   "outputs": [],
   "source": [
    "#Categorical\n",
    "categorical = df.loc[:, (df.dtypes != 'int64') & (df.dtypes != 'float64')].columns.tolist()\n",
    "categorical"
   ]
  },
  {
   "cell_type": "code",
   "execution_count": null,
   "id": "a41b6cbd",
   "metadata": {},
   "outputs": [],
   "source": [
    "df[numerical].describe()"
   ]
  },
  {
   "cell_type": "code",
   "execution_count": null,
   "id": "ca466c45",
   "metadata": {},
   "outputs": [],
   "source": [
    "df[categorical].describe()"
   ]
  },
  {
   "cell_type": "code",
   "execution_count": null,
   "id": "7b7fd8cd",
   "metadata": {},
   "outputs": [],
   "source": [
    "# Check classes for prediction\n",
    "df['is_canceled'].value_counts()#(normalize=True)"
   ]
  },
  {
   "cell_type": "code",
   "execution_count": null,
   "id": "9f4375f0",
   "metadata": {},
   "outputs": [],
   "source": [
    "# Check value counts for catogrical columns\n",
    "for col in categorical:\n",
    "    print(f'''Value count column {col}:''')\n",
    "    print('-' * 50)\n",
    "    print(df[col].value_counts())\n",
    "    print()"
   ]
  },
  {
   "cell_type": "code",
   "execution_count": null,
   "id": "c18a7bce",
   "metadata": {},
   "outputs": [],
   "source": [
    "# Check Duplicates\n",
    "df.duplicated().sum()"
   ]
  },
  {
   "cell_type": "code",
   "execution_count": null,
   "id": "24187df1",
   "metadata": {},
   "outputs": [],
   "source": [
    "#df.hist(bins=60, figsize=(20,15));"
   ]
  },
  {
   "cell_type": "markdown",
   "id": "7aadc4c0",
   "metadata": {},
   "source": [
    "# Split Data\n",
    "---"
   ]
  },
  {
   "cell_type": "code",
   "execution_count": null,
   "id": "7b275ef8",
   "metadata": {},
   "outputs": [],
   "source": [
    "total_previous_cancellations = df['previous_cancellations'].unique() \n",
    "total_previous_cancellations"
   ]
  },
  {
   "cell_type": "code",
   "execution_count": null,
   "id": "4654dd7f",
   "metadata": {},
   "outputs": [],
   "source": [
    "#train/test split on randomly selected groups of previous_cancellations\n",
    "np.random.seed(80)\n",
    "total_previous_cancellations = df['previous_cancellations'].unique() \n",
    "test_previous_cancellations = np.random.choice(total_previous_cancellations, size=int(total_previous_cancellations.shape[0] * .20))"
   ]
  },
  {
   "cell_type": "code",
   "execution_count": null,
   "id": "f2729bff",
   "metadata": {},
   "outputs": [],
   "source": [
    "df_train, df_test = df[~df['previous_cancellations'].isin(test_previous_cancellations)], df[df['previous_cancellations'].isin(test_previous_cancellations)]"
   ]
  },
  {
   "cell_type": "code",
   "execution_count": null,
   "id": "76b3b054",
   "metadata": {},
   "outputs": [],
   "source": [
    "#train/val split on randomly selected groups of previous_cancellations\n",
    "total_train_previous_cancellations = df_train['previous_cancellations'].unique() \n",
    "val_previous_cancellations = np.random.choice(total_train_previous_cancellations, size=int(total_train_previous_cancellations.shape[0] * .25))"
   ]
  },
  {
   "cell_type": "code",
   "execution_count": null,
   "id": "c55c1ebc",
   "metadata": {},
   "outputs": [],
   "source": [
    "df_train, df_val = df_train[~df_train['previous_cancellations'].isin(val_previous_cancellations)], df_train[df_train['previous_cancellations'].isin(val_previous_cancellations)]"
   ]
  },
  {
   "cell_type": "code",
   "execution_count": null,
   "id": "8c0a3e8c",
   "metadata": {},
   "outputs": [],
   "source": [
    "print(f'Shape of train:', df_train.shape)\n",
    "print(f'Shape of validation:', df_val.shape)\n",
    "print(f'Shape of test:', df_test.shape)"
   ]
  },
  {
   "cell_type": "markdown",
   "id": "0afd5904",
   "metadata": {},
   "source": [
    "# ------------------------------------------"
   ]
  },
  {
   "cell_type": "code",
   "execution_count": null,
   "id": "370d00d2",
   "metadata": {},
   "outputs": [],
   "source": [
    "df_train['previous_cancellations'].unique()"
   ]
  },
  {
   "cell_type": "code",
   "execution_count": null,
   "id": "c31b5877",
   "metadata": {},
   "outputs": [],
   "source": [
    "df_test['previous_cancellations'].unique()"
   ]
  },
  {
   "cell_type": "code",
   "execution_count": null,
   "id": "f9398bcd",
   "metadata": {},
   "outputs": [],
   "source": [
    "df_val['previous_cancellations'].unique()"
   ]
  },
  {
   "cell_type": "markdown",
   "id": "4152a2ab",
   "metadata": {},
   "source": [
    "# ------------------------------------------"
   ]
  },
  {
   "cell_type": "code",
   "execution_count": null,
   "id": "0f9229a9",
   "metadata": {},
   "outputs": [],
   "source": [
    "df_train['is_canceled'].value_counts()"
   ]
  },
  {
   "cell_type": "code",
   "execution_count": null,
   "id": "3bed5de4",
   "metadata": {},
   "outputs": [],
   "source": [
    "df_val['is_canceled'].value_counts()"
   ]
  },
  {
   "cell_type": "code",
   "execution_count": null,
   "id": "68e907ae",
   "metadata": {},
   "outputs": [],
   "source": [
    "df_test['is_canceled'].value_counts()"
   ]
  },
  {
   "cell_type": "markdown",
   "id": "8ef50614",
   "metadata": {},
   "source": [
    "## Data Pre-Processing"
   ]
  },
  {
   "cell_type": "markdown",
   "id": "e9ddf70b",
   "metadata": {},
   "source": [
    "---"
   ]
  },
  {
   "cell_type": "code",
   "execution_count": null,
   "id": "4502a242",
   "metadata": {},
   "outputs": [],
   "source": [
    "df_train.isnull().sum()"
   ]
  },
  {
   "cell_type": "code",
   "execution_count": null,
   "id": "7d5ffe1c",
   "metadata": {},
   "outputs": [],
   "source": [
    "df_val.isnull().sum()"
   ]
  },
  {
   "cell_type": "code",
   "execution_count": null,
   "id": "73751963",
   "metadata": {},
   "outputs": [],
   "source": [
    "df_test.isnull().sum()"
   ]
  },
  {
   "cell_type": "code",
   "execution_count": null,
   "id": "781845da",
   "metadata": {},
   "outputs": [],
   "source": [
    "#Delete Irrelevant Features\n",
    "\n",
    "# for train\n",
    "df_train.drop(['name', 'email', 'phone-number', 'credit_card'], axis = 1, inplace=True)\n",
    "\n",
    "# for val\n",
    "df_val.drop(['name', 'email', 'phone-number', 'credit_card'], axis = 1, inplace=True)\n",
    "\n",
    "# for teast\n",
    "df_test.drop(['name', 'email', 'phone-number', 'credit_card'], axis = 1, inplace=True)\n"
   ]
  },
  {
   "cell_type": "code",
   "execution_count": null,
   "id": "894031ca",
   "metadata": {},
   "outputs": [],
   "source": [
    "#Remove rows that have no children data\n",
    "\n",
    "# for train\n",
    "df_train.dropna(subset=['children'], inplace=True)\n",
    "\n",
    "# foe val\n",
    "df_val.dropna(subset=['children'], inplace=True)\n",
    "\n",
    "\n",
    "# for test\n",
    "df_test.dropna(subset=['children'], inplace=True)\n"
   ]
  },
  {
   "cell_type": "code",
   "execution_count": null,
   "id": "74df519b",
   "metadata": {},
   "outputs": [],
   "source": [
    "#Change value company to 0 and 1\n",
    "\n",
    "# for train\n",
    "df_train['company'] = df_train['company'].apply(lambda x: 0 if pd.isnull(x) else 1)\n",
    "df_train['company'].value_counts()\n",
    "\n",
    "# for val\n",
    "df_val['company'] = df_val['company'].apply(lambda x: 0 if pd.isnull(x) else 1)\n",
    "df_val['company'].value_counts()\n",
    "\n",
    "\n",
    "# for test\n",
    "df_test['company'] = df_test['company'].apply(lambda x: 0 if pd.isnull(x) else 1)\n",
    "df_test['company'].value_counts()"
   ]
  },
  {
   "cell_type": "code",
   "execution_count": null,
   "id": "455b1c1e",
   "metadata": {},
   "outputs": [],
   "source": [
    "#Change value agent to 0 and 1\n",
    "\n",
    "# for train\n",
    "df_train['agent'] = df_train['agent'].apply(lambda x: 0 if pd.isnull(x) else 1)\n",
    "df_train['agent'].value_counts()\n",
    "\n",
    "# for val\n",
    "#Change value agent to 0 and 1\n",
    "df_val['agent'] = df_val['agent'].apply(lambda x: 0 if pd.isnull(x) else 1)\n",
    "df_val['agent'].value_counts()\n",
    "\n",
    "# for test\n",
    "#Change value agent to 0 and 1\n",
    "df_test['agent'] = df_test['agent'].apply(lambda x: 0 if pd.isnull(x) else 1)\n",
    "df_test['agent'].value_counts()"
   ]
  },
  {
   "cell_type": "code",
   "execution_count": null,
   "id": "36c79198",
   "metadata": {},
   "outputs": [],
   "source": [
    "#Fill NaN value in country with the value of mode\n",
    "\n",
    "# for train\n",
    "df_train['country'].fillna(df_train['country'].mode()[0], inplace = True)\n",
    "df_train['country'].value_counts()\n",
    "\n",
    "# for val\n",
    "df_val['country'].fillna(df_val['country'].mode()[0], inplace = True)\n",
    "df_val['country'].value_counts()\n",
    "\n",
    "# for test\n",
    "df_test['country'].fillna(df_test['country'].mode()[0], inplace = True)\n",
    "df_test['country'].value_counts()"
   ]
  },
  {
   "cell_type": "code",
   "execution_count": null,
   "id": "9864a3d2",
   "metadata": {},
   "outputs": [],
   "source": [
    "df_train.isna().sum()"
   ]
  },
  {
   "cell_type": "markdown",
   "id": "f0d592e0",
   "metadata": {},
   "source": [
    "# Handel incorrect value\n",
    "---"
   ]
  },
  {
   "cell_type": "markdown",
   "id": "a5c048f3",
   "metadata": {},
   "source": [
    "ADR"
   ]
  },
  {
   "cell_type": "code",
   "execution_count": null,
   "id": "ea103ae2",
   "metadata": {},
   "outputs": [],
   "source": [
    "df_train['adr'].describe()"
   ]
  },
  {
   "cell_type": "code",
   "execution_count": null,
   "id": "87e29ce2",
   "metadata": {},
   "outputs": [],
   "source": [
    "df_train[df_train.adr < 0]"
   ]
  },
  {
   "cell_type": "code",
   "execution_count": null,
   "id": "7f1a48ec",
   "metadata": {},
   "outputs": [],
   "source": [
    "\n",
    "# for train\n",
    "df_train.drop(df_train[df_train['adr'] < 0].index, inplace = True)\n",
    "\n",
    "# for val\n",
    "df_val.drop(df_val[df_val['adr'] < 0].index, inplace = True)\n",
    "\n",
    "# for test\n",
    "df_test.drop(df_test[df_test['adr'] < 0].index, inplace = True)"
   ]
  },
  {
   "cell_type": "code",
   "execution_count": null,
   "id": "afda3e37",
   "metadata": {},
   "outputs": [],
   "source": [
    "df_train['adr'].describe()"
   ]
  },
  {
   "cell_type": "markdown",
   "id": "9d170431",
   "metadata": {},
   "source": [
    "Adults\n"
   ]
  },
  {
   "cell_type": "code",
   "execution_count": null,
   "id": "d25fc400",
   "metadata": {},
   "outputs": [],
   "source": [
    "df_train['adults'].describe()"
   ]
  },
  {
   "cell_type": "code",
   "execution_count": null,
   "id": "1d0fe9c7",
   "metadata": {},
   "outputs": [],
   "source": [
    "# for train\n",
    "df_train.drop(df_train[df_train['adults']<1].index, inplace= True)\n",
    "\n",
    "# for val\n",
    "df_val.drop(df_val[df_val['adults']<1].index, inplace= True)\n",
    "\n",
    "# for test\n",
    "df_test.drop(df_test[df_test['adults']<1].index, inplace= True)"
   ]
  },
  {
   "cell_type": "code",
   "execution_count": null,
   "id": "ee379ddc",
   "metadata": {},
   "outputs": [],
   "source": [
    "df_train['adults'].describe()"
   ]
  },
  {
   "cell_type": "markdown",
   "id": "6b565d9c",
   "metadata": {},
   "source": [
    "# Change Type"
   ]
  },
  {
   "cell_type": "code",
   "execution_count": null,
   "id": "3e7c1982",
   "metadata": {},
   "outputs": [],
   "source": [
    "# for train\n",
    "\n",
    "# Changing children to integer type: \n",
    "df_train['children'] = df_train['children'].astype(int)\n",
    "\n",
    "# Changing reservation status date to datetime type: \n",
    "df_train['reservation_status_date'] = pd.to_datetime(df['reservation_status_date'])\n",
    "\n",
    "# Changing agent to integer type: \n",
    "df_train['agent'] = df_train['agent'].astype(int)\n",
    "\n",
    "# Changing company to integer type: \n",
    "df_train['company'] = df_train['company'].astype(int)"
   ]
  },
  {
   "cell_type": "code",
   "execution_count": null,
   "id": "3af3c6d5",
   "metadata": {},
   "outputs": [],
   "source": [
    "# for train\n",
    "\n",
    "# Changing children to integer type: \n",
    "df_val['children'] = df_val['children'].astype(int)\n",
    "\n",
    "# Changing reservation status date to datetime type: \n",
    "df_val['reservation_status_date'] = pd.to_datetime(df['reservation_status_date'])\n",
    "\n",
    "# Changing agent to integer type: \n",
    "df_val['agent'] = df_val['agent'].astype(int)\n",
    "\n",
    "# Changing company to integer type: \n",
    "df_val['company'] = df_val['company'].astype(int)"
   ]
  },
  {
   "cell_type": "code",
   "execution_count": null,
   "id": "5afabd10",
   "metadata": {},
   "outputs": [],
   "source": [
    "# for train\n",
    "\n",
    "# Changing children to integer type: \n",
    "df_test['children'] = df_test['children'].astype(int)\n",
    "\n",
    "# Changing reservation status date to datetime type: \n",
    "df_test['reservation_status_date'] = pd.to_datetime(df['reservation_status_date'])\n",
    "\n",
    "# Changing agent to integer type: \n",
    "df_test['agent'] = df_test['agent'].astype(int)\n",
    "\n",
    "# Changing company to integer type: \n",
    "df_test['company'] = df_test['company'].astype(int)"
   ]
  },
  {
   "cell_type": "code",
   "execution_count": null,
   "id": "bb7b3fb2",
   "metadata": {},
   "outputs": [],
   "source": [
    "df_train.info()"
   ]
  },
  {
   "cell_type": "markdown",
   "id": "f01e77cb",
   "metadata": {},
   "source": [
    "# Feature Engineering\n",
    "---"
   ]
  },
  {
   "cell_type": "markdown",
   "id": "4edef817",
   "metadata": {},
   "source": [
    "Total Stays\n"
   ]
  },
  {
   "cell_type": "code",
   "execution_count": null,
   "id": "914878d5",
   "metadata": {},
   "outputs": [],
   "source": [
    "# for train\n",
    "df_train['total_stays'] = df_train['stays_in_weekend_nights'] + df_train['stays_in_week_nights']\n",
    "\n",
    "# for val\n",
    "df_val['total_stays'] = df_val['stays_in_weekend_nights'] + df_val['stays_in_week_nights']\n",
    "\n",
    "# for test\n",
    "df_test['total_stays'] = df_test['stays_in_weekend_nights'] + df_test['stays_in_week_nights']"
   ]
  },
  {
   "cell_type": "markdown",
   "id": "42298720",
   "metadata": {},
   "source": [
    "Total Guests"
   ]
  },
  {
   "cell_type": "code",
   "execution_count": null,
   "id": "d14b05fe",
   "metadata": {},
   "outputs": [],
   "source": [
    "# for train\n",
    "df_train['total_guests'] = df_train['adults'] + df_train['children'] + df_train['babies']\n",
    "\n",
    "# for val\n",
    "df_val['total_guests'] = df_val['adults'] + df_val['children'] + df_val['babies']\n",
    "\n",
    "# for test\n",
    "df_test['total_guests'] = df_test['adults'] + df_test['children'] + df_test['babies']"
   ]
  },
  {
   "cell_type": "markdown",
   "id": "5b0c1805",
   "metadata": {},
   "source": [
    "kids"
   ]
  },
  {
   "cell_type": "code",
   "execution_count": null,
   "id": "e082846e",
   "metadata": {},
   "outputs": [],
   "source": [
    "# for train\n",
    "df_train['kids'] = df_train['children'] + df_train['babies']\n",
    "\n",
    "# for val\n",
    "df_val['kids'] = df_val['children'] + df_val['babies']\n",
    "\n",
    "# for test\n",
    "df_test['kids'] = df_test['children'] + df_test['babies']"
   ]
  },
  {
   "cell_type": "markdown",
   "id": "dc9e57ad",
   "metadata": {},
   "source": [
    "Guest location"
   ]
  },
  {
   "cell_type": "code",
   "execution_count": null,
   "id": "23c14776",
   "metadata": {},
   "outputs": [],
   "source": [
    "# for train\n",
    "df_train['guest_location'] = df_train['country'].apply(lambda x: 'Local' if x == 'PRT' else 'International')\n",
    "df_train['guest_location'].value_counts()\n",
    "\n",
    "# for val\n",
    "df_val['guest_location'] = df_val['country'].apply(lambda x: 'Local' if x == 'PRT' else 'International')\n",
    "df_val['guest_location'].value_counts()\n",
    "\n",
    "# for test\n",
    "df_test['guest_location'] = df_test['country'].apply(lambda x: 'Local' if x == 'PRT' else 'International')\n",
    "df_test['guest_location'].value_counts()"
   ]
  },
  {
   "cell_type": "code",
   "execution_count": null,
   "id": "44fc7af4",
   "metadata": {},
   "outputs": [],
   "source": [
    "# Delete \n",
    "\n",
    "# for train\n",
    "df_train.drop(['stays_in_weekend_nights', 'stays_in_week_nights', 'children', 'babies'], axis = 1, inplace=True)\n",
    "\n",
    "# for val\n",
    "df_val.drop(['stays_in_weekend_nights', 'stays_in_week_nights', 'children', 'babies'], axis = 1, inplace=True)\n",
    "\n",
    "# for test\n",
    "df_test.drop(['stays_in_weekend_nights', 'stays_in_week_nights', 'children', 'babies'], axis = 1, inplace=True)\n"
   ]
  },
  {
   "cell_type": "code",
   "execution_count": null,
   "id": "0dda47d0",
   "metadata": {},
   "outputs": [],
   "source": [
    "# check Duplicates\n",
    "df_train.duplicated().sum()\n"
   ]
  },
  {
   "cell_type": "code",
   "execution_count": null,
   "id": "26e089a8",
   "metadata": {},
   "outputs": [],
   "source": [
    "df_val.duplicated().sum()"
   ]
  },
  {
   "cell_type": "code",
   "execution_count": null,
   "id": "20ed21fe",
   "metadata": {},
   "outputs": [],
   "source": [
    "df_test.duplicated().sum()"
   ]
  },
  {
   "cell_type": "code",
   "execution_count": null,
   "id": "dc575e18",
   "metadata": {},
   "outputs": [],
   "source": [
    "# drop Duplicates\n",
    "# for train\n",
    "df_train.drop_duplicates(inplace=True)\n",
    "\n",
    "# for val\n",
    "df_val.drop_duplicates(inplace=True)\n",
    "\n",
    "# for test\n",
    "df_test.drop_duplicates(inplace=True)\n"
   ]
  },
  {
   "cell_type": "code",
   "execution_count": null,
   "id": "40e0a33d",
   "metadata": {},
   "outputs": [],
   "source": [
    "df_train.duplicated().sum()\n"
   ]
  },
  {
   "cell_type": "code",
   "execution_count": null,
   "id": "4046446f",
   "metadata": {},
   "outputs": [],
   "source": [
    "df_train['is_canceled'].value_counts()"
   ]
  },
  {
   "cell_type": "markdown",
   "id": "48c3686c",
   "metadata": {},
   "source": [
    "# Get Dummies "
   ]
  },
  {
   "cell_type": "code",
   "execution_count": null,
   "id": "92f267f9",
   "metadata": {},
   "outputs": [],
   "source": [
    "df.dtypes"
   ]
  },
  {
   "cell_type": "code",
   "execution_count": null,
   "id": "97cc185d",
   "metadata": {},
   "outputs": [],
   "source": [
    "df.nunique()"
   ]
  },
  {
   "cell_type": "code",
   "execution_count": null,
   "id": "ec45cba7",
   "metadata": {},
   "outputs": [],
   "source": [
    "df.reserved_room_type.value_counts()"
   ]
  },
  {
   "cell_type": "code",
   "execution_count": null,
   "id": "69bb938a",
   "metadata": {},
   "outputs": [],
   "source": [
    "df.assigned_room_type.value_counts()"
   ]
  },
  {
   "cell_type": "code",
   "execution_count": null,
   "id": "5110df78",
   "metadata": {},
   "outputs": [],
   "source": [
    "df1=df1 = df_train.select_dtypes(exclude=['object']).copy()"
   ]
  },
  {
   "cell_type": "code",
   "execution_count": null,
   "id": "26d893e2",
   "metadata": {},
   "outputs": [],
   "source": [
    "df_obj_train=df_train.loc[:,['hotel','arrival_date_month','market_segment','distribution_channel','assigned_room_type','deposit_type','customer_type','reservation_status','guest_location']]\n",
    "           "
   ]
  },
  {
   "cell_type": "code",
   "execution_count": null,
   "id": "783065db",
   "metadata": {},
   "outputs": [],
   "source": [
    "df_obj_val=df_val.loc[:,['hotel','arrival_date_month','market_segment','distribution_channel','assigned_room_type','deposit_type','customer_type','reservation_status','guest_location']]  "
   ]
  },
  {
   "cell_type": "code",
   "execution_count": null,
   "id": "90596412",
   "metadata": {},
   "outputs": [],
   "source": [
    "df_obj_test=df_test.loc[:,['hotel','arrival_date_month','market_segment','distribution_channel','assigned_room_type','deposit_type','customer_type','reservation_status','guest_location']]  "
   ]
  },
  {
   "cell_type": "code",
   "execution_count": null,
   "id": "bae582e9",
   "metadata": {},
   "outputs": [],
   "source": [
    "df_dum_tr = pd.get_dummies(df_obj_train, drop_first=True)\n",
    "\n",
    "df_train1 = pd.concat([df1, df_dum_tr], axis=1)\n",
    "df_train1.head(2)"
   ]
  },
  {
   "cell_type": "code",
   "execution_count": null,
   "id": "a846149e",
   "metadata": {},
   "outputs": [],
   "source": [
    "df_dum_val = pd.get_dummies(df_obj_val, drop_first=True)\n",
    "\n",
    "df_val1 = pd.concat([df1, df_dum_val], axis=1)\n",
    "df_val1.head(2)"
   ]
  },
  {
   "cell_type": "code",
   "execution_count": null,
   "id": "be4e6d13",
   "metadata": {},
   "outputs": [],
   "source": [
    "df_dum_test = pd.get_dummies(df_obj_test, drop_first=True)\n",
    "\n",
    "df_test1 = pd.concat([df1, df_dum_test], axis=1)\n",
    "df_test1.head(2)"
   ]
  },
  {
   "cell_type": "code",
   "execution_count": null,
   "id": "b24fe7e1",
   "metadata": {
    "scrolled": true
   },
   "outputs": [],
   "source": [
    "#sns.heatmap(df_train.corr(), cmap=\"seismic\", annot=True, vmin=-1, vmax=1);\n"
   ]
  },
  {
   "cell_type": "code",
   "execution_count": null,
   "id": "db85cf1b",
   "metadata": {},
   "outputs": [],
   "source": [
    "df_train1.corr()"
   ]
  },
  {
   "cell_type": "markdown",
   "id": "5a375d8e",
   "metadata": {},
   "source": [
    "# EDA"
   ]
  },
  {
   "cell_type": "code",
   "execution_count": null,
   "id": "a336fbc8",
   "metadata": {},
   "outputs": [],
   "source": [
    "# plt.figure(figsize=(15, 25))\n",
    "# for i in range(0, len(numerical)):\n",
    "#     plt.subplot(10, int(len(numerical)/9), i+1)\n",
    "#     sns.distplot(df_train[numerical[i]], color='gray')\n",
    "#     plt.tight_layout()"
   ]
  },
  {
   "cell_type": "code",
   "execution_count": null,
   "id": "13b48274",
   "metadata": {},
   "outputs": [],
   "source": [
    "df_train.shape"
   ]
  },
  {
   "cell_type": "code",
   "execution_count": null,
   "id": "30e4ed9d",
   "metadata": {},
   "outputs": [],
   "source": [
    "df_val.shape"
   ]
  },
  {
   "cell_type": "code",
   "execution_count": null,
   "id": "fc02cb56",
   "metadata": {},
   "outputs": [],
   "source": [
    "df_test.shape"
   ]
  },
  {
   "cell_type": "code",
   "execution_count": null,
   "id": "92fc9022",
   "metadata": {},
   "outputs": [],
   "source": [
    "train_sample= df_train1[['is_canceled','lead_time','previous_cancellations','previous_bookings_not_canceled',\n",
    "                           'assigned_room_type_K','assigned_room_type_L','deposit_type_Non Refund','deposit_type_Refundable',\n",
    "                           'customer_type_Group','customer_type_Transient','customer_type_Transient-Party',\n",
    "                           'reservation_status_Check-Out','reservation_status_No-Show','guest_location_Local',\n",
    "                           'hotel_Resort Hotel','market_segment_Complementary','market_segment_Corporate',\n",
    "                           'market_segment_Direct','market_segment_Groups','market_segment_Offline TA/TO',\n",
    "                           'market_segment_Online TA','distribution_channel_Direct','distribution_channel_GDS',\n",
    "                           'distribution_channel_TA/TO','distribution_channel_Undefined','assigned_room_type_B',\n",
    "                           'assigned_room_type_C','assigned_room_type_D','assigned_room_type_E','assigned_room_type_F',\n",
    "                           'assigned_room_type_G','assigned_room_type_H','assigned_room_type_I','assigned_room_type_K',\n",
    "                           'assigned_room_type_L','deposit_type_Non Refund','deposit_type_Refundable','customer_type_Group',\n",
    "                           'customer_type_Transient','customer_type_Transient-Party','reservation_status_Check-Out',\n",
    "                           'reservation_status_No-Show'\n",
    "                           ]]\n",
    "\n",
    "\n",
    "\n",
    "\n",
    "\n",
    "\n",
    "\n",
    "val_sample = df_val1[['hotel_Resort Hotel','is_canceled','lead_time','previous_cancellations','distribution_channel_Direct',\n",
    "                      'distribution_channel_TA/TO','market_segment_Complementary','market_segment_Corporate',\n",
    "                      'market_segment_Direct',\n",
    "                      'market_segment_Groups','market_segment_Offline TA/TO','market_segment_Online TA',\n",
    "                      'deposit_type_Non Refund','previous_bookings_not_canceled','customer_type_Group','customer_type_Transient',\n",
    "                      'customer_type_Transient-Party','assigned_room_type_B','assigned_room_type_C',\n",
    "                      'assigned_room_type_D','assigned_room_type_E','assigned_room_type_F','assigned_room_type_G',\n",
    "                      'assigned_room_type_H'\n",
    "                     ]]\n",
    "    \n",
    "                          \n",
    "\n",
    "test_sample = df_test1[['is_canceled','lead_time','previous_cancellations','previous_bookings_not_canceled',\n",
    "                        'hotel_Resort Hotel','market_segment_Direct',\n",
    "                      'market_segment_Groups','market_segment_Offline TA/TO','market_segment_Online TA',\n",
    "                        'market_segment_Corporate','distribution_channel_Direct','distribution_channel_TA/TO',\n",
    "                        'assigned_room_type_B','assigned_room_type_D','assigned_room_type_E','assigned_room_type_F',\n",
    "                        'assigned_room_type_G','deposit_type_Non Refund','reservation_status_Check-Out',\n",
    "                        'reservation_status_No-Show','customer_type_Transient-Party']]\n",
    "    \n",
    "    \n",
    "   "
   ]
  },
  {
   "cell_type": "code",
   "execution_count": null,
   "id": "d8323fed",
   "metadata": {},
   "outputs": [],
   "source": [
    "# Classes\n",
    "plt.figure(figsize=(5, 6))\n",
    "cancel_ax = sns.countplot(df_train['is_canceled'])\n",
    "\n",
    "for p in cancel_ax.patches:\n",
    "    cancel_ax.annotate(format(p.get_height(), '.0f'), \n",
    "                   (p.get_x() + p.get_width() / 2., p.get_height()), \n",
    "                   ha = 'center', va = 'center', \n",
    "                   xytext = (0, 9), \n",
    "                   textcoords = 'offset points')"
   ]
  },
  {
   "cell_type": "markdown",
   "id": "c4abd1bd",
   "metadata": {},
   "source": [
    "## Cancellation Rate"
   ]
  },
  {
   "cell_type": "code",
   "execution_count": null,
   "id": "240804a5",
   "metadata": {},
   "outputs": [],
   "source": [
    "labels = ['Confirmed Booking',  'Cancelled Booking']\n",
    "myexplode = [0.2, 0]\n",
    "cancel_fig, cancel_ax = plt.subplots(figsize=[10,6])\n",
    "cancel_ax.pie(df_train['is_canceled'].value_counts(), autopct='%1.1f%%',\n",
    "        shadow=True, startangle=90, explode = myexplode, textprops={'color':\"black\", 'fontsize':20}, labels=labels)\n",
    "cancel_ax.axis('equal'); "
   ]
  },
  {
   "cell_type": "markdown",
   "id": "2e197eeb",
   "metadata": {},
   "source": [
    "---\n",
    "## What is the month in which there were the most cancellations, and what is the month in which there were the least cancellations?"
   ]
  },
  {
   "cell_type": "code",
   "execution_count": null,
   "id": "92203b74",
   "metadata": {},
   "outputs": [],
   "source": [
    "# plt.figure(figsize=(10, 10))\n",
    "# sns.barplot(df_train['arrival_date_month'], df_clean['is_canceled'], color='steelblue')\n",
    "\n",
    "# plt.xlabel('arrival_date_month', fontsize=12)\n",
    "# plt.ylabel('is_canceled', fontsize=12)\n",
    "# plt.title('Cancellation Rate By Months', fontsize=20, pad=30)\n",
    "# plt.show()"
   ]
  },
  {
   "cell_type": "markdown",
   "id": "87f0db62",
   "metadata": {},
   "source": [
    "# Select what year was the most reservation in?"
   ]
  },
  {
   "cell_type": "code",
   "execution_count": null,
   "id": "f9b18a80",
   "metadata": {},
   "outputs": [],
   "source": [
    "counts_year = df_train.arrival_date_year.value_counts().sort_values(ascending=False).reset_index()\n",
    "counts_year.columns = ['year', 'count']\n",
    "counts_year"
   ]
  },
  {
   "cell_type": "code",
   "execution_count": null,
   "id": "6236b4b4",
   "metadata": {},
   "outputs": [],
   "source": [
    "sns.barplot(x = 'year', y = 'count', data = counts_year , color = '#4682B4')\n",
    "plt.xlabel('arrival date year')\n",
    "plt.ylabel('counts')\n",
    "plt.title('The Most reservation  year',fontsize =10,weight='bold',color='black')"
   ]
  },
  {
   "cell_type": "markdown",
   "id": "918278c6",
   "metadata": {},
   "source": [
    "# What is the cancellation rate for each hotel?"
   ]
  },
  {
   "cell_type": "code",
   "execution_count": null,
   "id": "cf9ce8be",
   "metadata": {},
   "outputs": [],
   "source": [
    "Most_hotel_cancellation = df_train.groupby('hotel').is_canceled.sum()\n",
    "Most_hotel_cancellation"
   ]
  },
  {
   "cell_type": "code",
   "execution_count": null,
   "id": "1a105f79",
   "metadata": {},
   "outputs": [],
   "source": [
    "fig = plt.figure(figsize =(7,7))\n",
    "c = ['#4682B4','darkorange'\n",
    "plt.title('Cancellation rate per hotel', fontsize = 12, weight = 'bold')\n",
    "plt.pie(Most_hotel_cancellation , labels=Most_hotel_cancellation.index,autopct=\"%0.1f%%\", pctdistance=0.6 ,colors=c);"
   ]
  },
  {
   "cell_type": "markdown",
   "id": "16798651",
   "metadata": {},
   "source": [
    "# Is the number of changes of the reservation affected by (market_segment)?"
   ]
  },
  {
   "cell_type": "code",
   "execution_count": null,
   "id": "b4504d04",
   "metadata": {},
   "outputs": [],
   "source": [
    "plt.figure(figsize=(8,4))\n",
    "sns.barplot(y=df_train.booking_changes,x=df_train.market_segment\n",
    "            ,ci=True,color='steelblue')\n",
    "plt.ylabel('booking_changes')\n",
    "plt.xlabel('market_segment');\n"
   ]
  },
  {
   "cell_type": "markdown",
   "id": "e84a44c7",
   "metadata": {},
   "source": [
    "# Is booking changes affected by customer type or by days in waiting list?"
   ]
  },
  {
   "cell_type": "code",
   "execution_count": null,
   "id": "4bd3819c",
   "metadata": {},
   "outputs": [],
   "source": [
    "#plt.bar(df_train.booking_changes,df_train.days_in_waiting_list);"
   ]
  },
  {
   "cell_type": "code",
   "execution_count": null,
   "id": "76dd6751",
   "metadata": {},
   "outputs": [],
   "source": [
    "#plt.bar(df_train.booking_changes,df_train.customer_type);"
   ]
  },
  {
   "cell_type": "markdown",
   "id": "7173d5f3",
   "metadata": {},
   "source": [
    "---\n",
    "## Scaler"
   ]
  },
  {
   "cell_type": "code",
   "execution_count": null,
   "id": "a539206a",
   "metadata": {},
   "outputs": [],
   "source": [
    "scaler = StandardScaler()\n",
    "\n",
    "train_sample[train_sample.columns]=scaler.fit_transform(train_sample[train_sample.columns])\n",
    "val_sample[val_sample.columns]=scaler.transform(val_sample[val_sample.columns])\n",
    "test_sample[test_sample.columns]=scaler.transform(test_sample[test_sample.columns])"
   ]
  },
  {
   "cell_type": "markdown",
   "id": "855ec4d6",
   "metadata": {},
   "source": [
    "---\n",
    "\n",
    "## KNN Model"
   ]
  },
  {
   "cell_type": "code",
   "execution_count": null,
   "id": "4f112fdd",
   "metadata": {},
   "outputs": [],
   "source": [
    "X_train=train_sample\n",
    "y_train=df_train1['is_canceled']\n",
    "X_val=val_sample\n",
    "y_val=df_val1['is_canceled']\n",
    "X_test=test_sample\n",
    "y_test=df_test1['is_canceled']"
   ]
  },
  {
   "cell_type": "code",
   "execution_count": null,
   "id": "301aeab7",
   "metadata": {},
   "outputs": [],
   "source": [
    "\n",
    "from sklearn.metrics import f1_score\n",
    "\n",
    "\n",
    "knn = KNeighborsClassifier(n_neighbors=5)\n",
    "knn.fit(X_train, y_train)\n",
    "print('The accuracy for training : ',knn.score(X_train,y_train))\n",
    "print('The accuracy for validation: ',knn.score(X_val,y_val))\n",
    "print('f1_score for train: ',f1_score(knn.predict(X_train), y_train))\n",
    "print('f1_score for validation: ',f1_score(knn.predict(X_val), y_val))"
   ]
  },
  {
   "cell_type": "code",
   "execution_count": null,
   "id": "6a8c9504",
   "metadata": {},
   "outputs": [],
   "source": []
  }
 ],
 "metadata": {
  "kernelspec": {
   "display_name": "Python 3",
   "language": "python",
   "name": "python3"
  },
  "language_info": {
   "codemirror_mode": {
    "name": "ipython",
    "version": 3
   },
   "file_extension": ".py",
   "mimetype": "text/x-python",
   "name": "python",
   "nbconvert_exporter": "python",
   "pygments_lexer": "ipython3",
   "version": "3.8.8"
  }
 },
 "nbformat": 4,
 "nbformat_minor": 5
}
